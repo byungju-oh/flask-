{
 "cells": [
  {
   "cell_type": "code",
   "execution_count": null,
   "metadata": {},
   "outputs": [
    {
     "name": "stdout",
     "output_type": "stream",
     "text": [
      " * Serving Flask app \"__main__\" (lazy loading)\n",
      " * Environment: production\n",
      "   WARNING: This is a development server. Do not use it in a production deployment.\n",
      "   Use a production WSGI server instead.\n",
      " * Debug mode: off\n"
     ]
    },
    {
     "name": "stderr",
     "output_type": "stream",
     "text": [
      " * Running on http://127.0.0.1:5000/ (Press CTRL+C to quit)\n",
      "127.0.0.1 - - [05/May/2020 16:34:02] \"\u001b[37mGET / HTTP/1.1\u001b[0m\" 200 -\n",
      "127.0.0.1 - - [05/May/2020 16:34:02] \"\u001b[37mGET /static/css/main.css HTTP/1.1\u001b[0m\" 200 -\n",
      "127.0.0.1 - - [05/May/2020 16:34:02] \"\u001b[37mGET /static/js/main.js HTTP/1.1\u001b[0m\" 200 -\n",
      "127.0.0.1 - - [05/May/2020 16:34:03] \"\u001b[33mGET /favicon.ico HTTP/1.1\u001b[0m\" 404 -\n"
     ]
    }
   ],
   "source": [
    "from flask import Flask, redirect, url_for, request, render_template\n",
    "#파일 업로드\n",
    "\n",
    "import glob\n",
    "#파일이름 보호\n",
    "from werkzeug.utils import secure_filename\n",
    "from gevent.pywsgi import WSGIServer\n",
    "import os\n",
    "\n",
    "app = Flask(__name__)\n",
    "\n",
    "@app.route(\"/\")\n",
    "\n",
    "def index():\n",
    "\n",
    "    return render_template('index.html')\n",
    "@app.route(\"/predict\",methods=['GET','POST'])\n",
    "def upload():\n",
    "    if request.method=='POST':\n",
    "        f=request.files['file']\n",
    "\n",
    "        basepath = os.path.dirname['file']\n",
    "        file_path = os.path.join(basepath,'uploads',secure_filename(f.filename))\n",
    "        f.save(file_path)\n",
    "\n",
    "        preds = pred(file_path,model)\n",
    "        pred_class = decode_predictions(preds, top=1)\n",
    "        result = str(pred_class[0][0][1])             \n",
    "        return result\n",
    "\n",
    "    return None\n",
    "\n",
    "\n",
    "\n",
    "\n",
    "if __name__ == \"__main__\":\n",
    "    app.run()\n"
   ]
  },
  {
   "cell_type": "code",
   "execution_count": null,
   "metadata": {},
   "outputs": [],
   "source": [
    "break"
   ]
  },
  {
   "cell_type": "code",
   "execution_count": null,
   "metadata": {},
   "outputs": [],
   "source": []
  }
 ],
 "metadata": {
  "kernelspec": {
   "display_name": "Python 3",
   "language": "python",
   "name": "python3"
  },
  "language_info": {
   "codemirror_mode": {
    "name": "ipython",
    "version": 3
   },
   "file_extension": ".py",
   "mimetype": "text/x-python",
   "name": "python",
   "nbconvert_exporter": "python",
   "pygments_lexer": "ipython3",
   "version": "3.7.6"
  }
 },
 "nbformat": 4,
 "nbformat_minor": 4
}
